{
 "cells": [
  {
   "cell_type": "code",
   "execution_count": null,
   "id": "1aaeb372-86ed-4923-b818-5877a9536df5",
   "metadata": {},
   "outputs": [],
   "source": [
    "import random\n",
    "letters=['a', 'b', 'c', 'd', 'e', 'f', 'g', 'h', 'i', 'j', 'k', 'l', 'm', 'n', 'o', 'p', 'q', 'r', 's', 't', 'u', 'v', 'w', 'x', 'y', 'z']\n",
    "numbers=['0', '1', '2', '3', '4', '5', '6', '7', '8', '9']\n",
    "symbols=['!','#', '$', '%', '&','*', '+', ',', '-', '.', '/', ':',  '@', ]\n",
    "user_letter=int(input(\"write the number of letters you want in password: \"))\n",
    "user_number=int(input(\"write the numbers of interger you want in password: \"))\n",
    "user_symbols=int(input(\"write the numbers of symbol you want in password: \"))\n",
    "password_list=[]\n",
    "for n in range (1,user_letter+1):\n",
    "    password_list+= random.choice(letters)\n",
    "for l in range (1,user_number+1):\n",
    "    password_list+= random.choice(numbers)\n",
    "for s in range (1,user_symbols+1):\n",
    "    password_list+= random.choice(symbols)\n",
    "print(password_list)\n",
    "password=\"\"\n",
    "for char in password_list:\n",
    "    password+=random.choice(char)\n",
    "print(f\"your password is generated{password}\")\n"
   ]
  }
 ],
 "metadata": {
  "kernelspec": {
   "display_name": "Python 3 (ipykernel)",
   "language": "python",
   "name": "python3"
  },
  "language_info": {
   "codemirror_mode": {
    "name": "ipython",
    "version": 3
   },
   "file_extension": ".py",
   "mimetype": "text/x-python",
   "name": "python",
   "nbconvert_exporter": "python",
   "pygments_lexer": "ipython3",
   "version": "3.12.4"
  }
 },
 "nbformat": 4,
 "nbformat_minor": 5
}
